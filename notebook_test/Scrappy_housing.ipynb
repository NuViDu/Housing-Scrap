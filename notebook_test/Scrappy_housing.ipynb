{
 "cells": [
  {
   "cell_type": "code",
   "execution_count": 1,
   "id": "10a6b91e",
   "metadata": {},
   "outputs": [],
   "source": [
    "from bs4 import BeautifulSoup\n",
    "import requests"
   ]
  },
  {
   "cell_type": "code",
   "execution_count": 2,
   "id": "22ef89ba",
   "metadata": {},
   "outputs": [],
   "source": [
    "url = \"https://housinganywhere.com/de/s/Berlin--Deutschland\"\n",
    "page = requests.get(url)\n",
    "soup = BeautifulSoup(page.text, 'html.parser')"
   ]
  },
  {
   "cell_type": "code",
   "execution_count": 3,
   "id": "5fb2f23d",
   "metadata": {},
   "outputs": [],
   "source": [
    "listing = soup.findAll('a', attrs={'data-test-locator': 'Listing Card'})\n",
    "price = []\n",
    "warm = []\n",
    "app_type = []\n",
    "size = []\n",
    "notation = []\n",
    "date =[]\n",
    "provider = []\n",
    "\n",
    "\n",
    "for item in listing:\n",
    "    price.append(item.contents[0].contents[1].contents[0].contents[0].contents[2].text[:5].rstrip(' €').rstrip('\\xa0'))\n",
    "    warm.append(item.contents[0].contents[1].contents[0].contents[0].contents[4].text)\n",
    "    app_type.append(item.contents[0].contents[1].contents[1].contents[0].contents[0].text.rstrip(' •'))\n",
    "    size.append(item.contents[0].contents[1].contents[1].contents[0].contents[1].text[:-3].rstrip(' '))\n",
    "    if len(item.contents[0].contents[1].contents[1].contents[0]) > 3:\n",
    "        notation.append(item.contents[0].contents[1].contents[1].contents[0].contents[2].text.rstrip(' •'))\n",
    "        date.append(item.contents[0].contents[1].contents[1].contents[0].contents[3].text[3:].lstrip(' '))\n",
    "    else:\n",
    "        notation.append('')\n",
    "        date.append(item.contents[0].contents[1].contents[1].contents[0].contents[2].text[3:].lstrip(' '))\n",
    "    provider.append(item.contents[0].contents[1].contents[2].contents[0].contents[0].text)\n",
    "    "
   ]
  },
  {
   "cell_type": "code",
   "execution_count": 4,
   "id": "44cfd206",
   "metadata": {},
   "outputs": [],
   "source": [
    "image = soup.findAll('img', attrs={'data-test-locator': 'ListingCardPhotoGallery/Photo'})\n",
    "address = []\n",
    "\n",
    "for item in image:\n",
    "    address.append(item['title'].split(', ')[1])"
   ]
  },
  {
   "cell_type": "code",
   "execution_count": 5,
   "id": "76ee4a4d",
   "metadata": {},
   "outputs": [],
   "source": [
    "links = soup.findAll('a', attrs={'data-test-locator': 'Listing Card'})\n",
    "hrefs = [item['href'] for item in links]\n",
    "ids = []\n",
    "\n",
    "for item in hrefs:\n",
    "    x = item.split('/')\n",
    "    ids.append(x[3].lstrip('ut'))"
   ]
  },
  {
   "cell_type": "code",
   "execution_count": 6,
   "id": "9255bd1e",
   "metadata": {},
   "outputs": [],
   "source": [
    "buttons = soup.findAll('button')\n",
    "p = []\n",
    "\n",
    "for item in buttons:\n",
    "    if len(item.text) <= 3 & len(item.text) != 0:\n",
    "        p.append(item.text)\n",
    "if p:\n",
    "    lastPage = int(p.pop())\n",
    "else:\n",
    "    lastPage = 1"
   ]
  },
  {
   "cell_type": "code",
   "execution_count": 7,
   "id": "eb8fc96c",
   "metadata": {},
   "outputs": [],
   "source": [
    "for i in range(2, lastPage+1):\n",
    "    url = ('https://housinganywhere.com/de/s/Berlin--Deutschland?page=' + str(i))\n",
    "    page = requests.get(url)\n",
    "    soup = BeautifulSoup(page.text, 'html.parser')\n",
    "    \n",
    "    listing = soup.findAll('a', attrs={'data-test-locator': 'Listing Card'})\n",
    "\n",
    "    for item in listing:\n",
    "        price.append(item.contents[0].contents[1].contents[0].contents[0].contents[2].text[:5].rstrip(' €').rstrip('\\xa0'))\n",
    "        warm.append(item.contents[0].contents[1].contents[0].contents[0].contents[4].text)\n",
    "        app_type.append(item.contents[0].contents[1].contents[1].contents[0].contents[0].text.rstrip(' •'))\n",
    "        size.append(item.contents[0].contents[1].contents[1].contents[0].contents[1].text[:-3].rstrip(' '))\n",
    "        if len(item.contents[0].contents[1].contents[1].contents[0]) > 3:\n",
    "            notation.append(item.contents[0].contents[1].contents[1].contents[0].contents[2].text.rstrip(' •'))\n",
    "            date.append(item.contents[0].contents[1].contents[1].contents[0].contents[3].text[3:].lstrip(' '))\n",
    "        else:\n",
    "            notation.append('')\n",
    "            date.append(item.contents[0].contents[1].contents[1].contents[0].contents[2].text[3:].lstrip(' '))\n",
    "        provider.append(item.contents[0].contents[1].contents[2].contents[0].contents[0].text)\n",
    "    \n",
    "    image = soup.findAll('img', attrs={'data-test-locator': 'ListingCardPhotoGallery/Photo'})\n",
    "\n",
    "    for item in image:\n",
    "        address.append(item['title'].split(', ')[1])\n",
    "            \n",
    "    links = soup.findAll('a', attrs={'data-test-locator': 'Listing Card'})\n",
    "    hrefs = [item['href'] for item in links]\n",
    "    for item in hrefs:\n",
    "        x = item.split('/')\n",
    "        ids.append(x[3].lstrip('ut'))"
   ]
  },
  {
   "cell_type": "code",
   "execution_count": 8,
   "id": "e3dc8aab",
   "metadata": {},
   "outputs": [
    {
     "name": "stdout",
     "output_type": "stream",
     "text": [
      "688\n",
      "688\n",
      "688\n"
     ]
    }
   ],
   "source": [
    "print(len(address))\n",
    "print(len(app_type))\n",
    "print(len(ids))"
   ]
  },
  {
   "cell_type": "code",
   "execution_count": 9,
   "id": "77452178",
   "metadata": {},
   "outputs": [],
   "source": [
    "import csv\n",
    "\n",
    "columns = ['ID', 'Price', 'Housing Type', 'Size', 'Note', 'Provider Type', 'Address', 'Rent Price Info', 'Listing Date']\n",
    "data = [ids, price, app_type, size, notation, provider, address, warm, date]\n",
    "data = zip(*data)\n",
    "\n",
    "with open('Berlin_housing_data.csv', 'w', newline='', encoding = 'utf-8') as f:\n",
    "     \n",
    "    # using csv.writer method from CSV package\n",
    "    write = csv.writer(f)    \n",
    "    write.writerow(columns)\n",
    "    write.writerows(data)"
   ]
  },
  {
   "cell_type": "code",
   "execution_count": null,
   "id": "ee840e51",
   "metadata": {},
   "outputs": [],
   "source": []
  }
 ],
 "metadata": {
  "kernelspec": {
   "display_name": "Python 3 (ipykernel)",
   "language": "python",
   "name": "python3"
  },
  "language_info": {
   "codemirror_mode": {
    "name": "ipython",
    "version": 3
   },
   "file_extension": ".py",
   "mimetype": "text/x-python",
   "name": "python",
   "nbconvert_exporter": "python",
   "pygments_lexer": "ipython3",
   "version": "3.11.7"
  }
 },
 "nbformat": 4,
 "nbformat_minor": 5
}
